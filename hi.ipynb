{
 "cells": [
  {
   "cell_type": "code",
   "execution_count": null,
   "metadata": {},
   "outputs": [
    {
     "name": "stderr",
     "output_type": "stream",
     "text": [
      "/home/mukundan/projects/llm_app/supervisor_doctor_agent/.venv/lib/python3.13/site-packages/tqdm/auto.py:21: TqdmWarning: IProgress not found. Please update jupyter and ipywidgets. See https://ipywidgets.readthedocs.io/en/stable/user_install.html\n",
      "  from .autonotebook import tqdm as notebook_tqdm\n"
     ]
    },
    {
     "name": "stdout",
     "output_type": "stream",
     "text": [
      "Successfully connected to Milvus.\n",
      "Collection face_collection already exists.  Loading...\n",
      "Connected to PostgreSQL\n",
      "Tables created successfully.\n"
     ]
    },
    {
     "data": {
      "text/plain": [
       "True"
      ]
     },
     "execution_count": 1,
     "metadata": {},
     "output_type": "execute_result"
    }
   ],
   "source": [
    "from langchain_google_genai import ChatGoogleGenerativeAI # Import the Gemini model\n",
    "from dotenv import load_dotenv\n",
    "load_dotenv()"
   ]
  },
  {
   "cell_type": "code",
   "execution_count": 2,
   "metadata": {},
   "outputs": [
    {
     "name": "stdout",
     "output_type": "stream",
     "text": [
      "<Collection>:\n",
      "-------------\n",
      "<name>: gastroentology_rag_collection\n",
      "<description>: RAG data for gastroentology\n",
      "<schema>: {'auto_id': True, 'description': 'RAG data for gastroentology', 'fields': [{'name': 'id', 'description': '', 'type': <DataType.INT64: 5>, 'is_primary': True, 'auto_id': True}, {'name': 'embedding', 'description': '', 'type': <DataType.FLOAT_VECTOR: 101>, 'params': {'dim': 384}}, {'name': 'text', 'description': '', 'type': <DataType.VARCHAR: 21>, 'params': {'max_length': 65535}}], 'enable_dynamic_field': False}\n",
      " collection found \n"
     ]
    },
    {
     "name": "stderr",
     "output_type": "stream",
     "text": [
      "/home/mukundan/projects/llm_app/supervisor_doctor_agent/.venv/lib/python3.13/site-packages/torch/cuda/__init__.py:129: UserWarning: CUDA initialization: CUDA unknown error - this may be due to an incorrectly set up environment, e.g. changing env variable CUDA_VISIBLE_DEVICES after program start. Setting the available devices to be zero. (Triggered internally at /pytorch/c10/cuda/CUDAFunctions.cpp:109.)\n",
      "  return torch._C._cuda_getDeviceCount() > 0\n"
     ]
    },
    {
     "name": "stdout",
     "output_type": "stream",
     "text": [
      "Results [\"id: 456303077940532196, distance: 0.8231000900268555, entity: {'text': '265\\\\nYamada’s Handbook of Gastroenterology, Fourth Edition. John M. Inadomi,  \\\\nRenuka Bhattacharya, Joo Ha Hwang, and Cynthia Ko. \\\\n© 2020 John Wiley & Sons Ltd. Published 2020 by John Wiley & Sons Ltd.\\\\nCHAPTER\\\\xa024\\\\nShort bowel syndrome is a condition resulting from surgical resection, congen-\\\\nital defect or disease‐associated loss of absorption from a substantial portion of \\\\nsmall or large intestine. Less than 200 cm of remaining small intestine is often'}\", \"id: 456303077940541916, distance: 0.8230999112129211, entity: {'text': '265\\\\nYamada’s Handbook of Gastroenterology, Fourth Edition. John M. Inadomi,  \\\\nRenuka Bhattacharya, Joo Ha Hwang, and Cynthia Ko. \\\\n© 2020 John Wiley & Sons Ltd. Published 2020 by John Wiley & Sons Ltd.\\\\nCHAPTER\\\\xa024\\\\nShort bowel syndrome is a condition resulting from surgical resection, congen-\\\\nital defect or disease‐associated loss of absorption from a substantial portion of \\\\nsmall or large intestine. Less than 200 cm of remaining small intestine is often'}\", \"id: 456303077940532197, distance: 0.663357138633728, entity: {'text': 'used for the clinical diagnosis: however, a more meaningful criteria for short \\\\nbowel associated intestinal failure is absorption <1.4 kg/day of wet weight or \\\\n<84% of energy needs.\\\\nClinical presentation\\\\nThe symptoms and signs associated with short bowel syndrome include \\\\nchronic\\\\xa0 diarrhea, dehydration, steatorrhea, fluid and electrolyte abnormalities \\\\n(hyponatremia, hypokalemia, hypocalcemia, hypomagnesemia), with nutrient'}\"]\n",
      "In hit\n",
      "265\n",
      "Yamada’s Handbook of Gastroenterology, Fourth Edition. John M. Inadomi,  \n",
      "Renuka Bhattacharya, Joo Ha Hwang, and Cynthia Ko. \n",
      "© 2020 John Wiley & Sons Ltd. Published 2020 by John Wiley & Sons Ltd.\n",
      "CHAPTER 24\n",
      "Short bowel syndrome is a condition resulting from surgical resection, congen-\n",
      "ital defect or disease‐associated loss of absorption from a substantial portion of \n",
      "small or large intestine. Less than 200 cm of remaining small intestine is often\n",
      "In hit\n",
      "265\n",
      "Yamada’s Handbook of Gastroenterology, Fourth Edition. John M. Inadomi,  \n",
      "Renuka Bhattacharya, Joo Ha Hwang, and Cynthia Ko. \n",
      "© 2020 John Wiley & Sons Ltd. Published 2020 by John Wiley & Sons Ltd.\n",
      "CHAPTER 24\n",
      "Short bowel syndrome is a condition resulting from surgical resection, congen-\n",
      "ital defect or disease‐associated loss of absorption from a substantial portion of \n",
      "small or large intestine. Less than 200 cm of remaining small intestine is often\n",
      "In hit\n",
      "used for the clinical diagnosis: however, a more meaningful criteria for short \n",
      "bowel associated intestinal failure is absorption <1.4 kg/day of wet weight or \n",
      "<84% of energy needs.\n",
      "Clinical presentation\n",
      "The symptoms and signs associated with short bowel syndrome include \n",
      "chronic  diarrhea, dehydration, steatorrhea, fluid and electrolyte abnormalities \n",
      "(hyponatremia, hypokalemia, hypocalcemia, hypomagnesemia), with nutrient\n",
      "Context used for the clinical diagnosis: however, a more meaningful criteria for short \n",
      "bowel associated intestinal failure is absorption <1.4 kg/day of wet weight or \n",
      "<84% of energy needs.\n",
      "Clinical presentation\n",
      "The symptoms and signs associated with short bowel syndrome include \n",
      "chronic  diarrhea, dehydration, steatorrhea, fluid and electrolyte abnormalities \n",
      "(hyponatremia, hypokalemia, hypocalcemia, hypomagnesemia), with nutrient\n",
      "Sending context\n"
     ]
    }
   ],
   "source": [
    "from langgraph_supervisor import create_supervisor\n",
    "from langgraph.prebuilt import create_react_agent\n",
    "from agents.specialized_agent import get_context\n",
    "\n",
    "model = ChatGoogleGenerativeAI(model=\"gemini-2.0-flash\")\n",
    "\n",
    "# Create specialized agents\n",
    "dermatology_tool = get_context(\"dermatology\")\n",
    "gastroentology_tool = get_context(\"gastroentology\")\n",
    "\n",
    "# def add(a: float, b: float) -> float:\n",
    "#     \"\"\"Add two numbers.\"\"\"\n",
    "#     return a + b\n",
    "\n",
    "# def multiply(a: float, b: float) -> float:\n",
    "#     \"\"\"Multiply two numbers.\"\"\"\n",
    "#     return a * b\n",
    "\n",
    "# def web_search(query: str) -> str:\n",
    "#     \"\"\"Search the web for information.\"\"\"\n",
    "#     return (\n",
    "#         \"Here are the headcounts for each of the FAANG companies in 2024:\\n\"\n",
    "#         \"1. **Facebook (Meta)**: 67,317 employees.\\n\"\n",
    "#         \"2. **Apple**: 164,000 employees.\\n\"\n",
    "#         \"3. **Amazon**: 1,551,000 employees.\\n\"\n",
    "#         \"4. **Netflix**: 14,000 employees.\\n\"\n",
    "#         \"5. **Google (Alphabet)**: 181,269 employees.\"\n",
    "#     )\n",
    "\n",
    "dermatology_agent = create_react_agent(\n",
    "    model=model,\n",
    "    tools=[dermatology_tool],\n",
    "    name=\"dermatologist\",\n",
    "    prompt=\"You are a dermatological expert.Use the RAG to query the textbook and propely ground with facts. Always use one tool at a time.\"\n",
    ")\n",
    "\n",
    "gastroentology_agent = create_react_agent(\n",
    "    model=model,\n",
    "    tools=[gastroentology_tool],\n",
    "    name=\"gastroentologist\",\n",
    "    prompt=\"You are a gastroentological expert.Use the RAG to query the textbook and propely ground with facts. Always use one tool at a time.\"\n",
    ")\n",
    "\n",
    "# Create supervisor workflow\n",
    "workflow = create_supervisor(\n",
    "    [gastroentology_agent, dermatology_agent],\n",
    "    model=model,\n",
    "    prompt=(\n",
    "        \"You are a general physician handling along with a team consisting  a dermatology_agent and a gastroentology_agent \"\n",
    "        \"For gastric issues, use gastroentology_agnet. \"\n",
    "        \"For skin issues, use dermatology_agent.\"\n",
    "        \"If it is pertaining other domains give ypu own general answer \"\n",
    "    )\n",
    ")\n",
    "\n",
    "# Compile and run\n",
    "app = workflow.compile()\n",
    "result = app.invoke({\n",
    "    \"messages\": [\n",
    "        {\n",
    "            \"role\": \"user\",\n",
    "            \"content\": \"Patient presents with a short bowel syndrome \"\n",
    "        }\n",
    "    ]\n",
    "})"
   ]
  },
  {
   "cell_type": "code",
   "execution_count": 3,
   "metadata": {},
   "outputs": [
    {
     "name": "stdout",
     "output_type": "stream",
     "text": [
      "================================\u001b[1m Human Message \u001b[0m=================================\n",
      "\n",
      "Patient presents with a short bowel syndrome \n",
      "==================================\u001b[1m Ai Message \u001b[0m==================================\n",
      "Name: supervisor\n",
      "Tool Calls:\n",
      "  transfer_to_gastroentologist (4528036b-9810-4901-ab66-5e1dd1e5a9e4)\n",
      " Call ID: 4528036b-9810-4901-ab66-5e1dd1e5a9e4\n",
      "  Args:\n",
      "=================================\u001b[1m Tool Message \u001b[0m=================================\n",
      "Name: transfer_to_gastroentologist\n",
      "\n",
      "Successfully transferred to gastroentologist\n",
      "==================================\u001b[1m Ai Message \u001b[0m==================================\n",
      "Name: gastroentologist\n",
      "\n",
      "Short bowel syndrome (SBS) is a malabsorptive condition that typically arises after extensive resection of the small intestine. The clinical diagnosis of SBS is based on how ever, more meaningful clinical criteria for short bowel associated intestinal failure is absorption <1.4 kg/day of wet weight, and/or need for >84% of energy needs.\n",
      "\n",
      "Common signs and symptoms include chronic diarrhea, dehydration, steatorrhea, fluid and electrolyte abnormalities (hyponatremia, hypokalemia, hypocalcemia, hypomagnesemia), and malnutrition.\n",
      "==================================\u001b[1m Ai Message \u001b[0m==================================\n",
      "Name: gastroentologist\n",
      "\n",
      "Transferring back to supervisor\n",
      "Tool Calls:\n",
      "  transfer_back_to_supervisor (01737ab5-5897-4464-91d6-794ec552e766)\n",
      " Call ID: 01737ab5-5897-4464-91d6-794ec552e766\n",
      "  Args:\n",
      "=================================\u001b[1m Tool Message \u001b[0m=================================\n",
      "Name: transfer_back_to_supervisor\n",
      "\n",
      "Successfully transferred back to supervisor\n",
      "==================================\u001b[1m Ai Message \u001b[0m==================================\n",
      "Name: supervisor\n",
      "\n",
      "I have transferred the patient to a gastroenterologist. They will be able to provide more specialized care for this condition.\n"
     ]
    }
   ],
   "source": [
    "for m in result['messages']:\n",
    "    m.pretty_print()"
   ]
  },
  {
   "cell_type": "code",
   "execution_count": null,
   "metadata": {},
   "outputs": [],
   "source": []
  }
 ],
 "metadata": {
  "kernelspec": {
   "display_name": ".venv",
   "language": "python",
   "name": "python3"
  },
  "language_info": {
   "codemirror_mode": {
    "name": "ipython",
    "version": 3
   },
   "file_extension": ".py",
   "mimetype": "text/x-python",
   "name": "python",
   "nbconvert_exporter": "python",
   "pygments_lexer": "ipython3",
   "version": "3.13.2"
  }
 },
 "nbformat": 4,
 "nbformat_minor": 2
}
